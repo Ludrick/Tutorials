{
 "cells": [
  {
   "cell_type": "markdown",
   "metadata": {},
   "source": [
    "## Upar arquivos de uma pasta local para um Azure Blob Storage e deletá-los da pasta local\n",
    "___"
   ]
  },
  {
   "cell_type": "markdown",
   "metadata": {},
   "source": [
    "#### Preencher no 'config.yaml' as seguintes informações:\n",
    "- **azure_storage_connectionstring:** (Azure Storage account > Access Key > Connection string)\n",
    "- **pictures_container_name:** Container criado na Azure dentro da Storage account\n",
    "- **source_folder:** Caminho local completo da pasta contendo os arquivos a serem upados\n",
    "___\n",
    "Fonte: https://www.youtube.com/watch?v=enhJfb_6KYU&ab_channel=TechWithPat\n",
    "___"
   ]
  },
  {
   "cell_type": "code",
   "execution_count": 48,
   "metadata": {},
   "outputs": [
    {
     "name": "stdout",
     "output_type": "stream",
     "text": [
      "Uploading files to blob storage...\n",
      "arquivo_qualquer.txt uploaded to blob storage\n",
      "arquivo_qualquer.txt removed from folder\n",
      "arvores.png uploaded to blob storage\n",
      "arvores.png removed from folder\n",
      "banco de dados.xlsx uploaded to blob storage\n",
      "banco de dados.xlsx removed from folder\n",
      "deserto.jpg uploaded to blob storage\n",
      "deserto.jpg removed from folder\n",
      "pbi.png uploaded to blob storage\n",
      "pbi.png removed from folder\n"
     ]
    }
   ],
   "source": [
    "import os\n",
    "import yaml\n",
    "from azure.storage.blob import ContainerClient\n",
    "\n",
    "def load_config():\n",
    "    dir_root = os.path.dirname(os.path.abspath('config.yaml'))\n",
    "    with open(dir_root + \"/config.yaml\", \"r\") as yamlfile:\n",
    "        return yaml.load(yamlfile, Loader=yaml.FullLoader)\n",
    "    \n",
    "def get_files(dir):\n",
    "    with os.scandir(dir) as entries:\n",
    "        for entry in entries:\n",
    "            if entry.is_file() and not entry.name.startswith('.'):\n",
    "                yield entry\n",
    "                \n",
    "def upload(files, connection_string, container_name):\n",
    "    container_client = ContainerClient.from_connection_string(connection_string, container_name)\n",
    "    print(\"Uploading files to blob storage...\")\n",
    "\n",
    "    for file in files:\n",
    "        blob_client = container_client.get_blob_client(file.name)\n",
    "        with open(file.path, \"rb\") as data:\n",
    "            blob_client.upload_blob(data)\n",
    "            print(f'{file.name} uploaded to blob storage')\n",
    "        os.remove(file)\n",
    "        print(f'{file.name} removed from folder')              \n",
    "                \n",
    "                \n",
    "    \n",
    "config = load_config()\n",
    "pictures = get_files(config[\"source_folder\"]+ \"/pictures\")\n",
    "upload(pictures, config[\"azure_storage_connectionstring\"], config[\"pictures_container_name\"])"
   ]
  }
 ],
 "metadata": {
  "kernelspec": {
   "display_name": "Python 3",
   "language": "python",
   "name": "python3"
  },
  "language_info": {
   "codemirror_mode": {
    "name": "ipython",
    "version": 3
   },
   "file_extension": ".py",
   "mimetype": "text/x-python",
   "name": "python",
   "nbconvert_exporter": "python",
   "pygments_lexer": "ipython3",
   "version": "3.7.4"
  }
 },
 "nbformat": 4,
 "nbformat_minor": 4
}
