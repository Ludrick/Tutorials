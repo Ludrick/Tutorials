{
    "cells": [
        {
            "cell_type": "markdown",
            "metadata": {
                "azdata_cell_guid": "1fab8042-2fce-4965-8938-d04aee2e959d"
            },
            "source": [
                "# Cheatsheet Company Database"
            ]
        },
        {
            "cell_type": "markdown",
            "metadata": {
                "azdata_cell_guid": "a6274ab5-8d51-4876-849c-115b307f9743"
            },
            "source": [
                "-   **Visualização do Schema:**\n",
                "    -   [Abrir imagem](img/company-database.png)\n",
                "-   **Tutorial Youtube:**\n",
                "    -   [Mike Dane - SQL Course](https://www.mikedane.com/databases/sql/company-database-intro/)\n",
                "    -   [SQL Tutorial - Full Database Course for Beginners](https://www.youtube.com/watch?v=HXV3zeQKqGY&t=10850s&ab_channel=freeCodeCamp.org)\n",
                "-   **Firewall Settings do SQL Database:**\n",
                "    -   Start IP: 0.0.0.1\n",
                "    -   End IP: 239.255.255.255\n",
                "___"
            ]
        },
        {
            "cell_type": "markdown",
            "metadata": {
                "azdata_cell_guid": "7a034422-f879-46f5-a93d-a15a26c82fa1"
            },
            "source": [
                "# Tópico 1: Tabelas e Registros"
            ]
        },
        {
            "cell_type": "markdown",
            "metadata": {
                "azdata_cell_guid": "a2a6a82f-d231-4467-8bd3-b52f7f2ab677"
            },
            "source": [
                "## Criar Tabelas e inserir registros"
            ]
        },
        {
            "cell_type": "code",
            "execution_count": null,
            "metadata": {
                "azdata_cell_guid": "29d7e22f-0dea-4dc1-a70d-4b87860c85ed",
                "tags": [
                    "hide_input"
                ]
            },
            "outputs": [],
            "source": [
              
                "-- CREATE TABLES\r\n",

                "CREATE TABLE employee\r\n",
                "(\r\n",
                "    emp_id INT PRIMARY KEY,\r\n",
                "    first_name VARCHAR(40),\r\n",
                "    last_name VARCHAR(40),\r\n",
                "    birth_day DATE,\r\n",
                "    sex VARCHAR(1),\r\n",
                "    salary INT,\r\n",
                "    super_id INT,\r\n",
                "    branch_id INT\r\n",
                ");\r\n",
                "\r\n",
                "CREATE TABLE branch\r\n",
                "(\r\n",
                "    branch_id INT PRIMARY KEY,\r\n",
                "    branch_name VARCHAR(40),\r\n",
                "    mgr_id INT,\r\n",
                "    mgr_start_date DATE,\r\n",
                "    FOREIGN KEY(mgr_id) REFERENCES employee(emp_id) ON DELETE SET NULL\r\n",
                ");\r\n",
                "\r\n",
                "ALTER TABLE employee\r\n",
                "ADD FOREIGN KEY(branch_id)\r\n",
                "REFERENCES branch(branch_id)\r\n",
                "ON DELETE SET NULL;\r\n",
                "\r\n",
                "ALTER TABLE employee\r\n",
                "ADD FOREIGN KEY(super_id)\r\n",
                "REFERENCES employee(emp_id)\r\n",
                "ON DELETE NO ACTION;\r\n",
                "\r\n",
                "CREATE TABLE client\r\n",
                "(\r\n",
                "    client_id INT PRIMARY KEY,\r\n",
                "    client_name VARCHAR(40),\r\n",
                "    branch_id INT,\r\n",
                "    FOREIGN KEY(branch_id) REFERENCES branch(branch_id) ON DELETE SET NULL\r\n",
                ");\r\n",
                "\r\n",
                "CREATE TABLE works_with\r\n",
                "(\r\n",
                "    emp_id INT,\r\n",
                "    client_id INT,\r\n",
                "    total_sales INT,\r\n",
                "    PRIMARY KEY(emp_id, client_id),\r\n",
                "    FOREIGN KEY(emp_id) REFERENCES employee(emp_id) ON DELETE CASCADE,\r\n",
                "    FOREIGN KEY(client_id) REFERENCES client(client_id) ON DELETE CASCADE\r\n",
                ");\r\n",
                "\r\n",
                "CREATE TABLE branch_supplier\r\n",
                "(\r\n",
                "    branch_id INT,\r\n",
                "    supplier_name VARCHAR(40),\r\n",
                "    supply_type VARCHAR(40),\r\n",
                "    PRIMARY KEY(branch_id, supplier_name),\r\n",
                "    FOREIGN KEY(branch_id) REFERENCES branch(branch_id) ON DELETE CASCADE\r\n",
                ");"
            ]
        },
        {
            "cell_type": "code",
            "execution_count": null,
            "metadata": {
                "azdata_cell_guid": "c2de3070-a966-41de-a437-622bce6cf0e3",
                "tags": [
                    "hide_input"
                ]
            },
            "outputs": [],
            "source": [
                "-- INSERT INTO\r\n",
                "\r\n",
                "\r\n",
                "-- Corporate\r\n",
                "INSERT INTO employee VALUES(100, 'David', 'Wallace', '1967-11-17', 'M', 250000, NULL, NULL);\r\n",
                "\r\n",
                "INSERT INTO branch VALUES(1, 'Corporate', 100, '2006-02-09');\r\n",
                "\r\n",
                "UPDATE employee\r\n",
                "SET branch_id = 1\r\n",
                "WHERE emp_id = 100;\r\n",
                "\r\n",
                "INSERT INTO employee VALUES(101, 'Jan', 'Levinson', '1961-05-11', 'F', 110000, 100, 1);\r\n",
                "\r\n",
                "-- Scranton\r\n",
                "INSERT INTO employee VALUES(102, 'Michael', 'Scott', '1964-03-15', 'M', 75000, 100, NULL);\r\n",
                "\r\n",
                "INSERT INTO branch VALUES(2, 'Scranton', 102, '1992-04-06');\r\n",
                "\r\n",
                "UPDATE employee\r\n",
                "SET branch_id = 2\r\n",
                "WHERE emp_id = 102;\r\n",
                "\r\n",
                "INSERT INTO employee VALUES(103, 'Angela', 'Martin', '1971-06-25', 'F', 63000, 102, 2);\r\n",
                "INSERT INTO employee VALUES(104, 'Kelly', 'Kapoor', '1980-02-05', 'F', 55000, 102, 2);\r\n",
                "INSERT INTO employee VALUES(105, 'Stanley', 'Hudson', '1958-02-19', 'M', 69000, 102, 2);\r\n",
                "\r\n",
                "-- Stamford\r\n",
                "INSERT INTO employee VALUES(106, 'Josh', 'Porter', '1969-09-05', 'M', 78000, 100, NULL);\r\n",
                "\r\n",
                "INSERT INTO branch VALUES(3, 'Stamford', 106, '1998-02-13');\r\n",
                "\r\n",
                "UPDATE employee\r\n",
                "SET branch_id = 3\r\n",
                "WHERE emp_id = 106;\r\n",
                "\r\n",
                "INSERT INTO employee VALUES(107, 'Andy', 'Bernard', '1973-07-22', 'M', 65000, 106, 3);\r\n",
                "INSERT INTO employee VALUES(108, 'Jim', 'Halpert', '1978-10-01', 'M', 71000, 106, 3);\r\n",
                "\r\n",
                "\r\n",
                "-- BRANCH SUPPLIER\r\n",
                "INSERT INTO branch_supplier VALUES(2, 'Hammer Mill', 'Paper');\r\n",
                "INSERT INTO branch_supplier VALUES(2, 'Uni-ball', 'Writing Utensils');\r\n",
                "INSERT INTO branch_supplier VALUES(3, 'Patriot Paper', 'Paper');\r\n",
                "INSERT INTO branch_supplier VALUES(2, 'J.T. Forms & Labels', 'Custom Forms');\r\n",
                "INSERT INTO branch_supplier VALUES(3, 'Uni-ball', 'Writing Utensils');\r\n",
                "INSERT INTO branch_supplier VALUES(3, 'Hammer Mill', 'Paper');\r\n",
                "INSERT INTO branch_supplier VALUES(3, 'Stamford Lables', 'Custom Forms');\r\n",
                "\r\n",
                "-- CLIENT\r\n",
                "INSERT INTO client VALUES(400, 'Dunmore Highschool', 2);\r\n",
                "INSERT INTO client VALUES(401, 'Lackawana Country', 2);\r\n",
                "INSERT INTO client VALUES(402, 'FedEx', 3);\r\n",
                "INSERT INTO client VALUES(403, 'John Daly Law, LLC', 3);\r\n",
                "INSERT INTO client VALUES(404, 'Scranton Whitepages', 2);\r\n",
                "INSERT INTO client VALUES(405, 'Times Newspaper', 3);\r\n",
                "INSERT INTO client VALUES(406, 'FedEx', 2);\r\n",
                "\r\n",
                "-- WORKS_WITH\r\n",
                "INSERT INTO works_with VALUES(105, 400, 55000);\r\n",
                "INSERT INTO works_with VALUES(102, 401, 267000);\r\n",
                "INSERT INTO works_with VALUES(108, 402, 22500);\r\n",
                "INSERT INTO works_with VALUES(107, 403, 5000);\r\n",
                "INSERT INTO works_with VALUES(108, 403, 12000);\r\n",
                "INSERT INTO works_with VALUES(105, 404, 33000);\r\n",
                "INSERT INTO works_with VALUES(107, 405, 26000);\r\n",
                "INSERT INTO works_with VALUES(102, 406, 15000);\r\n",
                "INSERT INTO works_with VALUES(105, 406, 130000);"
            ]
        },
        {
            "cell_type": "markdown",
            "metadata": {
                "azdata_cell_guid": "8ee39e5d-ee07-402e-9ce7-7e2b9af2ff52"
            },
            "source": [
                "___\r\n",
                "## Consultar e deletar tabelas e registros"
            ]
        },
        {
            "cell_type": "code",
            "execution_count": null,
            "metadata": {
                "azdata_cell_guid": "17862a89-0ef5-44d5-a9a4-f2adf98766e2",
                "tags": [
                    "hide_input"
                ]
            },
            "outputs": [],
            "source": [
                "SELECT * FROM INFORMATION_SCHEMA.TABLES                         -- Consultar tabelas da database\r\n",
                "SELECT * FROM INFORMATION_SCHEMA.CONSTRAINT_COLUMN_USAGE        -- Consultar Constraint de cada coluna\r\n",
                "\r\n",
                "DROP TABLE works_with;                                          -- Deletar a tabela\r\n",
                "DELETE TABLE works_with;                                        -- Deletar todos os registros da tabela (Ppode ser desfeito e pode usar WHERE)\r\n",
                "TRUNCATE TABLE works_with;                                      -- Deletar todos os registros da tabela (Não pode ser desfeito e não pode usar WHERE)"
            ]
        },
        {
            "cell_type": "markdown",
            "metadata": {
                "azdata_cell_guid": "0daf5fc1-fca5-4783-b1aa-4ecc5c2fe998"
            },
            "source": [
                "# Tópico 2: Usuários e Permissões"
            ]
        },
        {
            "cell_type": "markdown",
            "metadata": {
                "azdata_cell_guid": "8876ff56-92c3-41a7-892d-5ffaa40cb42b"
            },
            "source": [
                "## Criar, deletar e consultar Login  \n",
                "O Login deve ser criado no DB \\_master"
            ]
        },
        {
            "cell_type": "code",
            "execution_count": null,
            "metadata": {
                "azdata_cell_guid": "d2318b5b-471c-4f46-b772-020feffa29b0",
                "tags": [
                    "hide_input"
                ]
            },
            "outputs": [],
            "source": [
                "SELECT * FROM master.sys.sql_logins                             -- Consultar logins do SQL Server (Precisa estar na database Master)\r\n",
                "CREATE LOGIN Lestark WITH PASSWORD = 'Lest@rk123';              -- Criar login no SQL Server (Precisa estar na database Master)\r\n",
                "DROP LOGIN Lestark;                                             -- Consultar logins do SQL Server (Precisa estar na database Master)"
            ]
        },
        {
            "cell_type": "markdown",
            "metadata": {
                "azdata_cell_guid": "eaf2f57a-93ae-40a3-8457-ebb70bd0f9ad"
            },
            "source": [
                "___\n",
                "## Criar, deletar e consultar Users\n",
                "Executar CREATE USER na DataBase que deseja-se conceder privilégio CONNECT para o usuário"
            ]
        },
        {
            "cell_type": "code",
            "execution_count": null,
            "metadata": {
                "azdata_cell_guid": "04ddedd6-8438-45fb-9de2-feb8d12b5b9e",
                "tags": [
                    "hide_input"
                ]
            },
            "outputs": [],
            "source": [
                "CREATE USER Lestark FOR LOGIN Lestark;                          -- Criar usuário na DB atual para login previamente criado no DB Mater\r\n",
                "CREATE USER [email@prov.com.br] FROM EXTERNAL PROVIDER;         -- Criar Usuário na DB atual para login externo (AD Azure por exemplo)\r\n",
                "SELECT * FROM Company.sys.sysusers                              -- Consultar usuários criados na DB atual\r\n",
                "DROP USER Lestark;                                              -- Remover usuário na DB atual"
            ]
        },
        {
            "cell_type": "markdown",
            "metadata": {
                "azdata_cell_guid": "63fb8f20-2c5f-4ff2-b1de-7e4ee5cf4ef3"
            },
            "source": [
                "___\n",
                "## Conceder, revogar e consultar privilégios\n",
                "Executar GRANT na DataBase que deseja-se conceder os privilégios. - [Tutorial Grant/Revoke](https://www.techonthenet.com/sql_server/grant_revoke.php) "
            ]
        },
        {
            "cell_type": "code",
            "execution_count": null,
            "metadata": {
                "azdata_cell_guid": "b583fbb1-87c7-4e51-913f-32eef496ed67",
                "tags": [
                    "hide_input"
                ]
            },
            "outputs": [],
            "source": [
                "GRANT SELECT TO [nome@prov.com.br];         -- Conceder privilégios de SELECT para usuário\r\n",
                "REVOKE SELECT FROM [nome@prov.com.br];      -- Revogar privilégios de SELECT do usuário\r\n",
                "\r\n",
                "GRANT SELECT, CREATE TABLE, INSERT TO Lestark;                  -- Conceder vários privilégios simultaneamente à um usuário\r\n",
                "REVOKE CREATE TABLE, INSERT FROM Lestark;                       -- Revogar vários privilégios simultaneamente à um usuário\r\n",
                "\r\n",
                "\r\n",
                "SELECT                                                          -- Consultar privilégios de usuário no DataBase:\r\n",
                "    USER_NAME(grantee_principal_id) [User]\r\n",
                "  , permission_name\r\n",
                "  , state_desc\r\n",
                "FROM sys.database_permissions\r\n",
                "WHERE USER_NAME(grantee_principal_id) = 'Lestark'"
            ]
        },
        {
            "cell_type": "markdown",
            "metadata": {
                "azdata_cell_guid": "0e35903b-6647-4dff-a6fb-faeb981b0693"
            },
            "source": [
                "___"
            ]
        },
        {
            "cell_type": "markdown",
            "metadata": {
                "azdata_cell_guid": "27a3f67f-5516-48b0-819f-978f903cd5bc"
            },
            "source": [
                "# Tópico 3: Query SELECT"
            ]
        },
        {
            "cell_type": "markdown",
            "metadata": {
                "azdata_cell_guid": "81d0fef2-2946-4323-974b-9a2fcf9e9a2a"
            },
            "source": [
                "Clausula **WHERE**"
            ]
        },
        {
            "cell_type": "code",
            "execution_count": null,
            "metadata": {
                "azdata_cell_guid": "02d881cc-111b-4b36-9574-170457192747",
                "tags": [
                    "hide_input"
                ]
            },
            "outputs": [],
            "source": [
                "-- Operadores AND, OR, NOT\r\n",
                "SELECT * FROM Employee\r\n",
                "WHERE (sex = 'M') and (birth_day > '1970-01-01');\r\n",
                "\r\n",
                "-- Operador BETWEEN\r\n",
                "SELECT * FROM Employee\r\n",
                "WHERE birth_day BETWEEN '1970-01-01' AND '1980-01-01'\r\n",
                "\r\n",
                "-- IN\r\n",
                "SELECT * FROM Employee\r\n",
                "WHERE first_name IN ('Kelly', 'Josh');\r\n",
                "\r\n",
                "SELECT * FROM Employee\r\n",
                "WHERE (super_id IS NOT NULL) AND ( (sex = 'M') OR (salary >= '70000') );  -- cond1 AND (cond2 OR cond2)\r\n",
                "\r\n",
                "SELECT * FROM Employee\r\n",
                "WHERE ( (super_id IS NOT NULL) AND (sex = 'M') ) OR (salary >= '70000');  -- (cond1 AND cond2) OR cond3\r\n",
                "\r\n",
                "-- TOP rows e ORDER BY\r\n",
                "SELECT TOP 5 * FROM Employee\r\n",
                "ORDER BY sex, salary DESC;"
            ]
        },
        {
            "cell_type": "markdown",
            "metadata": {
                "azdata_cell_guid": "35b9aee7-81f2-4d26-aad5-b58bf2a74b7c"
            },
            "source": [
                "Clausula **GROUP BY** e Funções **COUNT()**, **AVG(),**, **SUM()**, **MIN()**, **MAX()**"
            ]
        },
        {
            "cell_type": "code",
            "execution_count": null,
            "metadata": {
                "azdata_cell_guid": "db701e3c-1a96-4df2-a8fe-be931d2fcc96",
                "tags": []
            },
            "outputs": [],
            "source": [
                "-- Calcular funções agregadoras\r\n",
                "SELECT AVG(salary) AS Média, COUNT(salary) AS Cont, SUM(salary) AS Soma, MIN(salary) AS Mi, MAX(salary) AS Ma FROM employee;\r\n",
                "\r\n",
                "-- Somar salário para cada combinação de 'branch_id' e 'Sex'\r\n",
                "SELECT branch_id, Sex, SUM(salary) AS 'Soma_salário' FROM employee\r\n",
                "GROUP BY Sex, branch_id\r\n",
                "ORDER BY 'Soma_Salário' DESC;\r\n",
                "\r\n",
                "-- GROUP BY apenas de registros nascidos a partir de 1970, mostrando somente 'brand_id' = 1 e 'Sex' = 1\r\n",
                "SELECT branch_id, Sex, SUM(salary) AS 'Soma_salário' FROM employee\r\n",
                "WHERE birth_day > '1970-01-01'          -- WHERE filtra a tabela que será usada no GROUP BY\r\n",
                "GROUP BY Sex, branch_id\r\n",
                "HAVING branch_id <> '1' AND Sex = 'F'   -- HAVING filtra a tabela gerada pela GROUP BY\r\n",
                "ORDER BY Sex ASC;"
            ]
        },
        {
            "cell_type": "markdown",
            "metadata": {
                "azdata_cell_guid": "6cefb1b1-1113-489a-bb1c-01c49f8a1beb"
            },
            "source": [
                "Clausula **JOIN**"
            ]
        },
        {
            "cell_type": "code",
            "execution_count": null,
            "metadata": {
                "azdata_cell_guid": "76d94f40-36d9-4385-8f0e-15984c9e345d",
                "tags": []
            },
            "outputs": [],
            "source": [
                "-- Em qual branch atua cada employee?\r\n",
                "SELECT employee.emp_id, employee.first_name, branch.branch_name\r\n",
                "FROM employee\r\n",
                "INNER JOIN branch ON employee.branch_id=branch.branch_id;\r\n",
                "\r\n",
                "-- Quais employees atendem o cliente FedEx?\r\n",
                "SELECT employee.emp_id, employee.first_name, client.client_name\r\n",
                "FROM employee\r\n",
                "INNER JOIN client ON employee.branch_id=client.branch_id\r\n",
                "WHERE client_name = 'FedEx'\r\n",
                "\r\n",
                "-- Total sales por employee name\r\n",
                "SELECT employee.first_name, SUM(works_with.total_sales) AS SumTotSales\r\n",
                "FROM employee\r\n",
                "INNER JOIN works_with ON employee.emp_id=works_with.emp_id\r\n",
                "GROUP BY first_name\r\n",
                "\r\n",
                "-- Total sales por employee name\r\n",
                "SELECT employee.first_name, SUM(works_with.total_sales) AS SumTotSales\r\n",
                "FROM employee\r\n",
                "LEFT JOIN works_with ON employee.emp_id=works_with.emp_id\r\n",
                "GROUP BY first_name"
            ]
        },
        {
            "cell_type": "code",
            "execution_count": null,
            "metadata": {
                "azdata_cell_guid": "4e24f69f-a82d-42c9-bc6c-75d14cd88d95",
                "tags": []
            },
            "outputs": [],
            "source": [
                "-- Cada cliente recebe qual supply_tipe?\r\n"
            ]
        }
    ],
    "metadata": {
        "kernelspec": {
            "display_name": "Python 3.8.8 64-bit ('env1': conda)",
            "name": "python388jvsc74a57bd0bfa4cb53aa7c3fac9b2f8e0402e0c44398f740db8820d73cb66e852bd0090789"
        },
        "language_info": {
            "name": "python",
            "version": ""
        }
    },
    "nbformat": 4,
    "nbformat_minor": 2
}