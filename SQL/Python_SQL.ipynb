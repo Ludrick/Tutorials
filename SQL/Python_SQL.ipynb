{
 "cells": [
  {
   "cell_type": "markdown",
   "metadata": {
    "slideshow": {
     "slide_type": "slide"
    }
   },
   "source": [
    "# Conectar Python e SQL Server\n",
    "___"
   ]
  },
  {
   "cell_type": "markdown",
   "metadata": {
    "slideshow": {
     "slide_type": "subslide"
    }
   },
   "source": [
    "## Definir strings de conexão e criar as 2 funções"
   ]
  },
  {
   "cell_type": "code",
   "execution_count": 2,
   "metadata": {
    "slideshow": {
     "slide_type": "fragment"
    }
   },
   "outputs": [],
   "source": [
    "import pandas as pd\n",
    "import numpy as np\n",
    "import pyodbc\n",
    "import urllib\n",
    "from sqlalchemy import event\n",
    "import sqlalchemy\n",
    "    \n",
    "server = '<server_name>.database.windows.net'\n",
    "database = '<database_name>'\n",
    "username = '<user_name>'\n",
    "password = '<password>'\n",
    "driver= '{ODBC Driver 17 for SQL Server}'\n",
    "    \n",
    "def sql_query(query, action='r'):\n",
    "    # Caso action='r', função vai executar query de leitura e retornar resultado em Pandas DataFrame\n",
    "    # Caso action ='w' função vai executar query de escrita\n",
    "    \n",
    "    if action == 'r':\n",
    "        with pyodbc.connect('DRIVER='+driver+';SERVER='+server+';PORT=1433;DATABASE='+database+';UID='+username+';PWD='+ password) as conn:\n",
    "            with conn.cursor() as cursor:\n",
    "                cursor.fast_executemany = True\n",
    "                output = pd.read_sql_query(query,conn)\n",
    "                return output\n",
    "    \n",
    "    if action == 'w':\n",
    "        with pyodbc.connect('DRIVER='+driver+';SERVER='+server+';PORT=1433;DATABASE='+database+';UID='+username+';PWD='+ password) as conn:\n",
    "            with conn.cursor() as cursor:\n",
    "                cursor.fast_executemany = True\n",
    "                \n",
    "                cursor.execute(query)\n",
    "                return print('Query executada')\n",
    "            \n",
    "def df_to_sql(df_para_upar, table_name, if_exists=\"append\"):\n",
    "    # Inserir Pandas DataFrame como tabela em SQL Server Database\n",
    "        # Parâmetro if_exists:\n",
    "            # fail: Raise a ValueError.\n",
    "            # replace: Drop the table before inserting new values.\n",
    "            # append: Insert new values to the existing table.\n",
    "    \n",
    "    db_params = urllib.parse.quote_plus('DRIVER='+driver+';SERVER='+server+';PORT=1433;DATABASE='+database+';UID='+username+';PWD='+ password)\n",
    "    engine = sqlalchemy.create_engine(\"mssql+pyodbc:///?odbc_connect={}\".format(db_params))\n",
    "    @event.listens_for(engine, \"before_cursor_execute\")\n",
    "    def receive_before_cursor_execute(\n",
    "           conn, cursor, statement, params, context, executemany\n",
    "            ):\n",
    "                if executemany:\n",
    "                    cursor.fast_executemany = True\n",
    "                \n",
    "    print('Atualizando banco de dados SQL...')\n",
    "    df_para_upar.to_sql(table_name, engine, index=False, if_exists=\"append\", schema=\"dbo\", chunksize=10000)\n",
    "    print('Banco de dados atualizado!')   "
   ]
  },
  {
   "cell_type": "markdown",
   "metadata": {
    "slideshow": {
     "slide_type": "skip"
    }
   },
   "source": [
    "## Exemplos"
   ]
  },
  {
   "cell_type": "code",
   "execution_count": 31,
   "metadata": {
    "slideshow": {
     "slide_type": "notes"
    }
   },
   "outputs": [
    {
     "name": "stdout",
     "output_type": "stream",
     "text": [
      "Query executada\n"
     ]
    }
   ],
   "source": [
    "# Criar tabela 'PessoaTeste' e inserir 2 registros\n",
    "\n",
    "query = '''\n",
    "DROP TABLE IF EXISTS PessoaTeste;\n",
    "\n",
    "CREATE TABLE PessoaTeste(\n",
    "Nome VARCHAR(100),\n",
    "Sobrenome VARCHAR(100)\n",
    ")\n",
    "\n",
    "INSERT INTO PessoaTeste VALUES('João', 'Jose');\n",
    "INSERT INTO PessoaTeste VALUES('Ana', 'Mari');\n",
    "'''\n",
    "\n",
    "sql_query(query, 'w')"
   ]
  },
  {
   "cell_type": "code",
   "execution_count": 33,
   "metadata": {
    "slideshow": {
     "slide_type": "slide"
    }
   },
   "outputs": [
    {
     "data": {
      "text/html": [
       "<div>\n",
       "<style scoped>\n",
       "    .dataframe tbody tr th:only-of-type {\n",
       "        vertical-align: middle;\n",
       "    }\n",
       "\n",
       "    .dataframe tbody tr th {\n",
       "        vertical-align: top;\n",
       "    }\n",
       "\n",
       "    .dataframe thead th {\n",
       "        text-align: right;\n",
       "    }\n",
       "</style>\n",
       "<table border=\"1\" class=\"dataframe\">\n",
       "  <thead>\n",
       "    <tr style=\"text-align: right;\">\n",
       "      <th></th>\n",
       "      <th>Nome</th>\n",
       "      <th>Sobrenome</th>\n",
       "    </tr>\n",
       "  </thead>\n",
       "  <tbody>\n",
       "    <tr>\n",
       "      <td>0</td>\n",
       "      <td>João</td>\n",
       "      <td>Jose</td>\n",
       "    </tr>\n",
       "    <tr>\n",
       "      <td>1</td>\n",
       "      <td>Ana</td>\n",
       "      <td>Mari</td>\n",
       "    </tr>\n",
       "  </tbody>\n",
       "</table>\n",
       "</div>"
      ],
      "text/plain": [
       "   Nome Sobrenome\n",
       "0  João      Jose\n",
       "1   Ana      Mari"
      ]
     },
     "execution_count": 33,
     "metadata": {},
     "output_type": "execute_result"
    }
   ],
   "source": [
    "# Consultar tabela 'PessoaTeste'\n",
    "output = sql_query('select * from PessoaTeste')\n",
    "output"
   ]
  },
  {
   "cell_type": "code",
   "execution_count": 34,
   "metadata": {
    "slideshow": {
     "slide_type": "skip"
    }
   },
   "outputs": [
    {
     "name": "stdout",
     "output_type": "stream",
     "text": [
      "Atualizando banco de dados SQL...\n",
      "Banco de dados atualizado!\n"
     ]
    }
   ],
   "source": [
    "# Criar 'nova_tabela' a partir de um df\n",
    "df_to_sql(output, 'nova_tabela')"
   ]
  }
 ],
 "metadata": {
  "kernelspec": {
   "display_name": "Python 3",
   "language": "python",
   "name": "python3"
  },
  "language_info": {
   "codemirror_mode": {
    "name": "ipython",
    "version": 3
   },
   "file_extension": ".py",
   "mimetype": "text/x-python",
   "name": "python",
   "nbconvert_exporter": "python",
   "pygments_lexer": "ipython3",
   "version": "3.8.5"
  },
  "toc-autonumbering": false,
  "toc-showcode": true,
  "toc-showmarkdowntxt": false,
  "toc-showtags": false
 },
 "nbformat": 4,
 "nbformat_minor": 4
}
